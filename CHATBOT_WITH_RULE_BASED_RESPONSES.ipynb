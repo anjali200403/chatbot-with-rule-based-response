{
  "cells": [
    {
      "cell_type": "code",
      "source": [
        "import nltk\n",
        "nltk.download('wordnet')"
      ],
      "metadata": {
        "colab": {
          "base_uri": "https://localhost:8080/"
        },
        "id": "L_-AZM0TfG2A",
        "outputId": "a6b4bf13-262a-47fb-f007-48d5264a3408"
      },
      "execution_count": 1,
      "outputs": [
        {
          "output_type": "stream",
          "name": "stderr",
          "text": [
            "[nltk_data] Downloading package wordnet to /root/nltk_data...\n"
          ]
        },
        {
          "output_type": "execute_result",
          "data": {
            "text/plain": [
              "True"
            ]
          },
          "metadata": {},
          "execution_count": 1
        }
      ]
    },
    {
      "cell_type": "code",
      "execution_count": 3,
      "metadata": {
        "colab": {
          "base_uri": "https://localhost:8080/"
        },
        "id": "uztOzsk2xail",
        "outputId": "4b793ff2-e431-49d0-be47-4d716475f783"
      },
      "outputs": [
        {
          "output_type": "stream",
          "name": "stdout",
          "text": [
            "\t\tSIMPLE CHATBOT\n",
            "You: hi\n",
            "Bot: Hey there ! how can I help you?\n",
            "You: what can you do ?\n",
            "Bot: I can assist you with various tasks, answer your query, feel free to ask me anything.\n",
            "You: Are you a ROBOT??\n",
            "Bot: I am a chatbot designed to assist and chat with you.\n",
            "You: what day is it today?\n",
            "Bot:  Today is Thursday\n",
            "You: Good Bye\n",
            "Bot: Good Bye! have a nice day ahead.\n"
          ]
        }
      ],
      "source": [
        "# Importing modules\n",
        "import re\n",
        "from nltk.corpus import wordnet\n",
        "from datetime import datetime\n",
        "\n",
        "# Building a list of Keywords and finding their synonyms using wordnet\n",
        "list_words=['hello','bye']\n",
        "list_syn={}\n",
        "for word in list_words:\n",
        "    synonyms=[]\n",
        "    for syn in wordnet.synsets(word):\n",
        "        for lem in syn.lemmas():\n",
        "            lem_name = re.sub('[^a-zA-Z0-9 \\n\\.]', ' ', lem.name())\n",
        "            synonyms.append(lem_name)\n",
        "    list_syn[word]=set(synonyms)\n",
        "\n",
        "#Defining rule based Chatbot responses for certain basic questions\n",
        "def chatbot(user_response):\n",
        "\n",
        "  for word in list(list_syn['hello']):\n",
        "    if word in user_response.lower():\n",
        "      return \"Hey there ! how can I help you?\"\n",
        "\n",
        "  if \"what can you do\" in user_response.lower():\n",
        "    return \"I can assist you with various tasks, answer your query, feel free to ask me anything.\"\n",
        "\n",
        "  if (\"are you a robot\" in user_response.lower()) or (\"are you human\" in user_response.lower()):\n",
        "    return \"I am a chatbot designed to assist and chat with you.\"\n",
        "\n",
        "  if \"what all languages can you speak\" in user_response.lower():\n",
        "    return \"You can talk with me in English as I can only understand English.\"\n",
        "\n",
        "  if \"what day is it today\" in user_response.lower():\n",
        "    dt = datetime.now()\n",
        "    return \" Today is \"+dt.strftime('%A')\n",
        "\n",
        "  if \"who are you\" in user_response.lower():\n",
        "    return \"I am a simple chatbot here to help you.\"\n",
        "\n",
        "  return \"I'm sorry, I didn't understand that. Can you please rephrase?\"\n",
        "\n",
        "#Using the chatbot\n",
        "print(\"\\t\\tSIMPLE CHATBOT\")\n",
        "while(True):\n",
        "  query=input(\"You: \")\n",
        "  for word in list(list_syn['bye']):\n",
        "    t=False\n",
        "    if word in query.lower():\n",
        "      print(\"Bot: Good Bye! have a nice day ahead.\")\n",
        "      t=True\n",
        "      break\n",
        "  if t:\n",
        "    break\n",
        "  response=chatbot(query)\n",
        "  print(\"Bot:\",response)"
      ]
    },
    {
      "cell_type": "code",
      "execution_count": 4,
      "metadata": {
        "id": "0wM5l1CkDc7P",
        "colab": {
          "base_uri": "https://localhost:8080/"
        },
        "outputId": "e96e530f-8ecb-4a7e-ed4d-353e61956741"
      },
      "outputs": [
        {
          "output_type": "stream",
          "name": "stdout",
          "text": [
            "Collecting sunpy\n",
            "  Downloading sunpy-5.0.1-cp39-abi3-manylinux_2_17_x86_64.manylinux2014_x86_64.whl (3.3 MB)\n",
            "\u001b[2K     \u001b[90m━━━━━━━━━━━━━━━━━━━━━━━━━━━━━━━━━━━━━━━━\u001b[0m \u001b[32m3.3/3.3 MB\u001b[0m \u001b[31m27.0 MB/s\u001b[0m eta \u001b[36m0:00:00\u001b[0m\n",
            "\u001b[?25hRequirement already satisfied: astropy!=5.1.0,>=5.0.6 in /usr/local/lib/python3.10/dist-packages (from sunpy) (5.3.4)\n",
            "Requirement already satisfied: numpy>=1.21.0 in /usr/local/lib/python3.10/dist-packages (from sunpy) (1.23.5)\n",
            "Requirement already satisfied: packaging>=19.0 in /usr/local/lib/python3.10/dist-packages (from sunpy) (23.2)\n",
            "Collecting parfive[ftp]>=2.0.0 (from sunpy)\n",
            "  Downloading parfive-2.0.2-py3-none-any.whl (26 kB)\n",
            "Requirement already satisfied: pyerfa>=2.0 in /usr/local/lib/python3.10/dist-packages (from astropy!=5.1.0,>=5.0.6->sunpy) (2.0.1.1)\n",
            "Requirement already satisfied: PyYAML>=3.13 in /usr/local/lib/python3.10/dist-packages (from astropy!=5.1.0,>=5.0.6->sunpy) (6.0.1)\n",
            "Requirement already satisfied: tqdm>=4.27.0 in /usr/local/lib/python3.10/dist-packages (from parfive[ftp]>=2.0.0->sunpy) (4.66.1)\n",
            "Requirement already satisfied: aiohttp in /usr/local/lib/python3.10/dist-packages (from parfive[ftp]>=2.0.0->sunpy) (3.8.6)\n",
            "Collecting aioftp>=0.17.1 (from parfive[ftp]>=2.0.0->sunpy)\n",
            "  Downloading aioftp-0.21.4-py3-none-any.whl (37 kB)\n",
            "Requirement already satisfied: attrs>=17.3.0 in /usr/local/lib/python3.10/dist-packages (from aiohttp->parfive[ftp]>=2.0.0->sunpy) (23.1.0)\n",
            "Requirement already satisfied: charset-normalizer<4.0,>=2.0 in /usr/local/lib/python3.10/dist-packages (from aiohttp->parfive[ftp]>=2.0.0->sunpy) (3.3.2)\n",
            "Requirement already satisfied: multidict<7.0,>=4.5 in /usr/local/lib/python3.10/dist-packages (from aiohttp->parfive[ftp]>=2.0.0->sunpy) (6.0.4)\n",
            "Requirement already satisfied: async-timeout<5.0,>=4.0.0a3 in /usr/local/lib/python3.10/dist-packages (from aiohttp->parfive[ftp]>=2.0.0->sunpy) (4.0.3)\n",
            "Requirement already satisfied: yarl<2.0,>=1.0 in /usr/local/lib/python3.10/dist-packages (from aiohttp->parfive[ftp]>=2.0.0->sunpy) (1.9.2)\n",
            "Requirement already satisfied: frozenlist>=1.1.1 in /usr/local/lib/python3.10/dist-packages (from aiohttp->parfive[ftp]>=2.0.0->sunpy) (1.4.0)\n",
            "Requirement already satisfied: aiosignal>=1.1.2 in /usr/local/lib/python3.10/dist-packages (from aiohttp->parfive[ftp]>=2.0.0->sunpy) (1.3.1)\n",
            "Requirement already satisfied: idna>=2.0 in /usr/local/lib/python3.10/dist-packages (from yarl<2.0,>=1.0->aiohttp->parfive[ftp]>=2.0.0->sunpy) (3.4)\n",
            "Installing collected packages: aioftp, parfive, sunpy\n",
            "Successfully installed aioftp-0.21.4 parfive-2.0.2 sunpy-5.0.1\n"
          ]
        }
      ],
      "source": [
        "!pip install astropy>=3.1\n",
        "!pip install sunpy"
      ]
    },
    {
      "cell_type": "code",
      "execution_count": 5,
      "metadata": {
        "id": "uBxHMj3yCfQY",
        "colab": {
          "base_uri": "https://localhost:8080/"
        },
        "outputId": "1d9aeba5-f1c2-4872-d4b3-0f6f5785b331"
      },
      "outputs": [
        {
          "output_type": "stream",
          "name": "stdout",
          "text": [
            "\u001b[2K     \u001b[90m━━━━━━━━━━━━━━━━━━━━━━━━━━━━━━━━━━━━━━━━\u001b[0m \u001b[32m8.9/8.9 MB\u001b[0m \u001b[31m48.6 MB/s\u001b[0m eta \u001b[36m0:00:00\u001b[0m\n",
            "\u001b[2K     \u001b[90m━━━━━━━━━━━━━━━━━━━━━━━━━━━━━━━━━━━━━━━━\u001b[0m \u001b[32m164.8/164.8 kB\u001b[0m \u001b[31m20.9 MB/s\u001b[0m eta \u001b[36m0:00:00\u001b[0m\n",
            "\u001b[2K     \u001b[90m━━━━━━━━━━━━━━━━━━━━━━━━━━━━━━━━━━━━━━━━\u001b[0m \u001b[32m190.6/190.6 kB\u001b[0m \u001b[31m24.5 MB/s\u001b[0m eta \u001b[36m0:00:00\u001b[0m\n",
            "\u001b[2K     \u001b[90m━━━━━━━━━━━━━━━━━━━━━━━━━━━━━━━━━━━━━━━━\u001b[0m \u001b[32m4.8/4.8 MB\u001b[0m \u001b[31m82.7 MB/s\u001b[0m eta \u001b[36m0:00:00\u001b[0m\n",
            "\u001b[2K     \u001b[90m━━━━━━━━━━━━━━━━━━━━━━━━━━━━━━━━━━━━━━━━\u001b[0m \u001b[32m82.1/82.1 kB\u001b[0m \u001b[31m11.1 MB/s\u001b[0m eta \u001b[36m0:00:00\u001b[0m\n",
            "\u001b[2K     \u001b[90m━━━━━━━━━━━━━━━━━━━━━━━━━━━━━━━━━━━━━━━━\u001b[0m \u001b[32m62.7/62.7 kB\u001b[0m \u001b[31m7.3 MB/s\u001b[0m eta \u001b[36m0:00:00\u001b[0m\n",
            "\u001b[2K     \u001b[90m━━━━━━━━━━━━━━━━━━━━━━━━━━━━━━━━━━━━━━━━\u001b[0m \u001b[32m341.8/341.8 kB\u001b[0m \u001b[31m33.4 MB/s\u001b[0m eta \u001b[36m0:00:00\u001b[0m\n",
            "\u001b[?25h"
          ]
        }
      ],
      "source": [
        "!pip install streamlit==1.24.0 --quiet"
      ]
    },
    {
      "cell_type": "code",
      "execution_count": 6,
      "metadata": {
        "colab": {
          "base_uri": "https://localhost:8080/"
        },
        "id": "JDGcik_xKYj1",
        "outputId": "7e4ea83e-e491-4b4b-bcb7-77c7179f6275"
      },
      "outputs": [
        {
          "output_type": "stream",
          "name": "stdout",
          "text": [
            "Writing app.py\n"
          ]
        }
      ],
      "source": [
        "#Using Streamlit to visualize the chatbot\n",
        "%%writefile app.py\n",
        "# Importing modules\n",
        "import re\n",
        "from nltk.corpus import wordnet\n",
        "from datetime import datetime\n",
        "import time\n",
        "\n",
        "# Building a list of Keywords\n",
        "list_words=['hello','bye']\n",
        "list_syn={}\n",
        "for word in list_words:\n",
        "    synonyms=[]\n",
        "    for syn in wordnet.synsets(word):\n",
        "        for lem in syn.lemmas():\n",
        "            # Remove any special characters from synonym strings\n",
        "            lem_name = re.sub('[^a-zA-Z0-9 \\n\\.]', ' ', lem.name())\n",
        "            synonyms.append(lem_name)\n",
        "    list_syn[word]=set(synonyms)\n",
        "\n",
        "def chatbot(user_response):\n",
        "  if user_response==None:\n",
        "    return \"welcome to the conversation\"\n",
        "\n",
        "  for word in list(list_syn['hello']):\n",
        "    if word in user_response.lower():\n",
        "      return \"Hey there ! how can I help you?\"\n",
        "\n",
        "  for word in list(list_syn['bye']):\n",
        "    t=False\n",
        "    if word in user_response.lower():\n",
        "      return \"Good Bye! have a nice day ahead.\"\n",
        "\n",
        "  if \"what can you do\" in user_response.lower():\n",
        "    return \"I can assist you with various tasks, answer your query, feel free to ask me anything.\"\n",
        "\n",
        "  if (\"are you a robot\" in user_response.lower()) or (\"are you human\" in user_response.lower()):\n",
        "    return \"I am a chatbot designed to assist and chat with you.\"\n",
        "\n",
        "  if \"what all languages can you speak\" in user_response.lower():\n",
        "    return \"You can talk with me in English as I can only understand English.\"\n",
        "\n",
        "  if \"what day is it today\" in user_response.lower():\n",
        "    dt = datetime.now()\n",
        "    return \" Today is \"+dt.strftime('%A')\n",
        "\n",
        "  if \"who are you\" in user_response.lower():\n",
        "    return \"I am a simple chatbot here to help you.\"\n",
        "\n",
        "  return \"I'm sorry, I didn't understand that. Can you please rephrase?\"\n",
        "\n",
        "import streamlit as st\n",
        "st.title(\"SIMPLE CHATBOT\")\n",
        "if \"messages\" not in st.session_state:\n",
        "    st.session_state.messages = []\n",
        "\n",
        "for message in st.session_state.messages:\n",
        "    with st.chat_message(message[\"role\"]):\n",
        "        st.markdown(message[\"content\"])\n",
        "\n",
        "if prompt := st.chat_input(\"What is up?\"):\n",
        "    # Display user message in chat message container\n",
        "    with st.chat_message(\"user\"):\n",
        "        st.markdown(prompt)\n",
        "    # Add user message to chat history\n",
        "    st.session_state.messages.append({\"role\": \"user\", \"content\": prompt})\n",
        "\n",
        "# Display assistant response in chat message container\n",
        "with st.chat_message(\"assistant\"):\n",
        "    message_placeholder = st.empty()\n",
        "    full_response = \"\"\n",
        "    assistant_response = chatbot(prompt)\n",
        "    # Simulate stream of response with milliseconds delay\n",
        "    for chunk in assistant_response.split():\n",
        "        full_response += chunk + \" \"\n",
        "        time.sleep(0.05)\n",
        "        # Add a blinking cursor to simulate typing\n",
        "        message_placeholder.markdown(full_response + \"▌\")\n",
        "    message_placeholder.markdown(full_response)\n",
        "# Add assistant response to chat history\n",
        "st.session_state.messages.append({\"role\": \"assistant\", \"content\": full_response})\n"
      ]
    },
    {
      "cell_type": "code",
      "execution_count": null,
      "metadata": {
        "colab": {
          "base_uri": "https://localhost:8080/"
        },
        "id": "W9KrOWKqKmlf",
        "outputId": "9d41428b-fc98-45df-885c-d34691365266"
      },
      "outputs": [
        {
          "output_type": "stream",
          "name": "stdout",
          "text": [
            "34.106.212.170\n",
            "\n",
            "Collecting usage statistics. To deactivate, set browser.gatherUsageStats to False.\n",
            "\u001b[0m\n",
            "\u001b[0m\n",
            "\u001b[34m\u001b[1m  You can now view your Streamlit app in your browser.\u001b[0m\n",
            "\u001b[0m\n",
            "\u001b[34m  Network URL: \u001b[0m\u001b[1mhttp://172.28.0.12:8501\u001b[0m\n",
            "\u001b[34m  External URL: \u001b[0m\u001b[1mhttp://34.106.212.170:8501\u001b[0m\n",
            "\u001b[0m\n",
            "\u001b[K\u001b[?25hnpx: installed 22 in 7.774s\n",
            "your url is: https://shy-ideas-jump.loca.lt\n"
          ]
        }
      ],
      "source": [
        "!streamlit run app.py & npx localtunnel --port 8501 & curl ipv4.icanhazip.com"
      ]
    }
  ],
  "metadata": {
    "colab": {
      "provenance": []
    },
    "kernelspec": {
      "display_name": "Python 3",
      "name": "python3"
    },
    "language_info": {
      "name": "python"
    }
  },
  "nbformat": 4,
  "nbformat_minor": 0
}